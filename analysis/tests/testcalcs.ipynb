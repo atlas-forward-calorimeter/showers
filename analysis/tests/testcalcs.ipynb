{
 "cells": [
  {
   "cell_type": "code",
   "execution_count": 14,
   "metadata": {},
   "outputs": [],
   "source": [
    "import pandas as pd\n",
    "import numpy as np\n",
    "import os"
   ]
  },
  {
   "cell_type": "code",
   "execution_count": 15,
   "metadata": {},
   "outputs": [],
   "source": [
    "paths = (\n",
    "    'data\\\\run1\\\\hits-0.csv',\n",
    "    'data\\\\run1\\\\hits-1.csv',\n",
    "    'data\\\\dir1\\\\run2\\\\hits-2.csv',\n",
    "    'data\\\\dir1\\\\run2\\\\hits-3.csv',\n",
    "    'data\\\\dir1\\\\run3\\\\hits-4.csv',\n",
    "    'data\\\\dir1\\\\run3\\\\hits-5.csv',\n",
    ")\n",
    "\n",
    "dfs = [pd.read_csv(path, skiprows=1) for path in paths]"
   ]
  },
  {
   "cell_type": "code",
   "execution_count": 16,
   "metadata": {},
   "outputs": [
    {
     "name": "stdout",
     "output_type": "stream",
     "text": [
      "data\\run1\\hits-0.csv :\n",
      "   energy_deposit         x         y        z\n",
      "0        0.017336 -0.118232  0.184559  74.1303\n",
      "1        0.011640 -0.119106  0.181467  74.0223\n",
      "2        0.044046 -0.121454  0.172552  73.7182\n",
      "3        0.000552 -0.121539  0.172232  73.7073\n",
      "4        0.026685 -0.123008  0.167092  73.5294 \n",
      "\n",
      "data\\run1\\hits-1.csv :\n",
      "   energy_deposit         x         y        z\n",
      "0        0.008325 -0.327954  0.114894  74.1903\n",
      "1        0.019345 -0.327982  0.114901  74.0849\n",
      "2        0.030206 -0.328041  0.114915  73.8571\n",
      "3        0.029599 -0.328100  0.114929  73.6300\n",
      "4        0.019183 -0.328130  0.114936  73.5164 \n",
      "\n",
      "data\\dir1\\run2\\hits-2.csv :\n",
      "   energy_deposit         x         y        z\n",
      "0        0.000824 -0.114491  0.665390  74.2360\n",
      "1        0.039282 -0.114926  0.665381  73.9151\n",
      "2        0.026690 -0.115207  0.665386  73.6984\n",
      "3        0.037438 -0.115610  0.665402  73.3754\n",
      "4        0.019617 -0.115849  0.665414  73.1768 \n",
      "\n",
      "data\\dir1\\run2\\hits-3.csv :\n",
      "   energy_deposit         x         y        z\n",
      "0        0.024631  0.335317  0.045396  74.0950\n",
      "1        0.000059  0.335317  0.045396  74.0930\n",
      "2        0.053907  0.335270  0.045397  73.6410\n",
      "3        0.006529  0.335265  0.045397  73.5914\n",
      "4        0.010325  0.335257  0.045398  73.5083 \n",
      "\n",
      "data\\dir1\\run3\\hits-4.csv :\n",
      "   energy_deposit         x         y        z\n",
      "0        0.015442  0.303276 -0.168871  74.1134\n",
      "1        0.004367  0.303170 -0.168568  74.0865\n",
      "2        0.004586  0.303007 -0.168113  74.0466\n",
      "3        0.004889  0.302742 -0.167369  73.9811\n",
      "4        0.025654  0.302247 -0.165895  73.8437 \n",
      "\n",
      "data\\dir1\\run3\\hits-5.csv :\n",
      "   energy_deposit         x         y        z\n",
      "0        0.003628  0.022861 -0.306999  74.2065\n",
      "1        0.004528  0.022861 -0.307000  74.1873\n",
      "2        0.058437  0.022843 -0.307015  73.8088\n",
      "3        0.020564  0.022834 -0.307023  73.6608\n",
      "4        0.005762  0.022829 -0.307026  73.6269 \n",
      "\n"
     ]
    }
   ],
   "source": [
    "for path, df in zip(paths, dfs):\n",
    "    print(path, ':')\n",
    "    print(df.head(), '\\n')"
   ]
  },
  {
   "cell_type": "code",
   "execution_count": 17,
   "metadata": {},
   "outputs": [],
   "source": [
    "# Geometry Dimensions\n",
    "tubeMiddleZ = 8 / 2\n",
    "# Histogram/Analysis Parameters\n",
    "fullZlims = (-50, 80)\n",
    "numZbins = 10 * (80 + 50)  # 10 per mm\n",
    "zBins = np.linspace(fullZlims[0], fullZlims[1], numZbins + 1)\n",
    "\n",
    "# Output directory for results (histogram sums, etc.).\n",
    "outDirectory = os.path.normpath('data/testcalcs_output')"
   ]
  },
  {
   "cell_type": "markdown",
   "metadata": {},
   "source": [
    "## Event Testing"
   ]
  },
  {
   "cell_type": "code",
   "execution_count": 18,
   "metadata": {},
   "outputs": [
    {
     "name": "stdout",
     "output_type": "stream",
     "text": [
      "data\\run1\\hits-0.csv\n",
      "Total energy deposit: 6175.80174032489\n",
      "Middle tube energy deposit: 72.950128318868\n"
     ]
    }
   ],
   "source": [
    "path = paths[0]\n",
    "df = dfs[0]\n",
    "dfMiddle = df[df.z.abs() < tubeMiddleZ]\n",
    "\n",
    "print(path)\n",
    "print('Total energy deposit:', df.energy_deposit.sum())\n",
    "print('Middle tube energy deposit:', dfMiddle.energy_deposit.sum())"
   ]
  },
  {
   "cell_type": "code",
   "execution_count": 19,
   "metadata": {},
   "outputs": [
    {
     "name": "stdout",
     "output_type": "stream",
     "text": [
      "[-50.  -49.9 -49.8 ...  79.8  79.9  80. ]\n",
      "[0. 0. 0. ... 0. 0. 0.]\n",
      "1.4551915228366852e-11\n"
     ]
    }
   ],
   "source": [
    "counts, bins = np.histogram(df.z, bins=zBins, weights=df.energy_deposit)\n",
    "print(bins)\n",
    "print(counts)\n",
    "print(sum(counts) - df.energy_deposit.sum())  # Difference should be 0.\n",
    "np.savetxt(os.path.join(outDirectory, 'event-hist.csv'), counts)"
   ]
  },
  {
   "cell_type": "markdown",
   "metadata": {},
   "source": [
    "## Run Testing"
   ]
  },
  {
   "cell_type": "code",
   "execution_count": 20,
   "metadata": {},
   "outputs": [
    {
     "name": "stdout",
     "output_type": "stream",
     "text": [
      "[-7.  -6.9 -6.8 -6.7 -6.6 -6.5 -6.4 -6.3 -6.2 -6.1 -6.  -5.9 -5.8 -5.7\n",
      " -5.6 -5.5 -5.4 -5.3 -5.2 -5.1 -5.  -4.9 -4.8 -4.7 -4.6 -4.5 -4.4 -4.3\n",
      " -4.2 -4.1 -4.  -3.9 -3.8 -3.7 -3.6 -3.5 -3.4 -3.3 -3.2 -3.1 -3.  -2.9\n",
      " -2.8 -2.7 -2.6 -2.5 -2.4 -2.3 -2.2 -2.1 -2.  -1.9 -1.8 -1.7 -1.6 -1.5\n",
      " -1.4 -1.3 -1.2 -1.1 -1.  -0.9 -0.8 -0.7 -0.6 -0.5 -0.4 -0.3 -0.2 -0.1\n",
      "  0.   0.1  0.2  0.3  0.4  0.5  0.6  0.7  0.8  0.9  1.   1.1  1.2  1.3\n",
      "  1.4  1.5  1.6  1.7  1.8  1.9  2.   2.1  2.2  2.3  2.4  2.5  2.6  2.7\n",
      "  2.8  2.9  3.   3.1  3.2  3.3  3.4  3.5  3.6  3.7  3.8  3.9  4.   4.1\n",
      "  4.2  4.3  4.4  4.5  4.6  4.7  4.8  4.9  5.   5.1  5.2  5.3  5.4  5.5\n",
      "  5.6  5.7  5.8  5.9  6.   6.1  6.2  6.3  6.4  6.5  6.6  6.7  6.8  6.9\n",
      "  7. ]\n"
     ]
    }
   ],
   "source": [
    "# More Histogram Parameters\n",
    "xyLims = 7\n",
    "numXYbins = 10 * 2 * xyLims  # 10 per mm\n",
    "xyBins = np.linspace(-xyLims, xyLims, numXYbins + 1)\n",
    "print(xyBins)"
   ]
  },
  {
   "cell_type": "code",
   "execution_count": 23,
   "metadata": {},
   "outputs": [
    {
     "name": "stdout",
     "output_type": "stream",
     "text": [
      "data\\run1\\hits-0.csv\n",
      "data\\run1\\hits-1.csv\n",
      "Mean total energy deposit: 6306.383002036315\n",
      "Total energy deposit standard deviation: 130.58126171142476\n",
      "Mean middle tube energy deposit: 78.635272187729\n",
      "Middle tube energy deposit standard deviation: 5.6851438688610045\n"
     ]
    }
   ],
   "source": [
    "eDeps, middleEdeps = [], []\n",
    "zSums, xySums = [], []\n",
    "for path, df in zip(paths[:2], dfs[:2]):\n",
    "    print(path)\n",
    "    # Energy sums.\n",
    "    dfMiddle = df[df.z.abs() < tubeMiddleZ]\n",
    "    edep = df.energy_deposit.sum()\n",
    "    middleEdep = dfMiddle.energy_deposit.sum()\n",
    "    eDeps.append(edep)\n",
    "    middleEdeps.append(middleEdep)\n",
    "    # Histograms.\n",
    "    zSums.append(np.histogram(\n",
    "        df.z, \n",
    "        bins=zBins, \n",
    "        weights=df.energy_deposit\n",
    "    )[0])\n",
    "    xySums.append(np.histogram2d(\n",
    "        dfMiddle.x, \n",
    "        dfMiddle.y, \n",
    "        bins=2 * (xyBins,), \n",
    "        weights=dfMiddle.energy_deposit\n",
    "    )[0])\n",
    "    \n",
    "# Energy sums.\n",
    "\n",
    "eDeps, middleEdeps = np.array(eDeps), np.array(middleEdeps)\n",
    "meanEdep, meanMiddleEdep = np.mean(eDeps), np.mean(middleEdeps)\n",
    "eDepSigma = np.sqrt(np.mean((eDeps - meanEdep)**2))\n",
    "middleEdepSigma = np.sqrt(np.mean((middleEdeps - meanMiddleEdep)**2))\n",
    "\n",
    "print('Mean total energy deposit:', meanEdep)\n",
    "print('Total energy deposit standard deviation:', eDepSigma)\n",
    "print('Mean middle tube energy deposit:', meanMiddleEdep)\n",
    "print('Middle tube energy deposit standard deviation:', middleEdepSigma)\n",
    "\n",
    "# Histograms.\n",
    "zSums, xySums = np.array(zSums), np.array(xySums)\n",
    "zMeanSums, xyMeanSums = np.mean(zSums, axis=0), np.mean(xySums, axis=0)\n",
    "zSumsSigmas, xySumsSigmas = np.std(zSums, axis=0), np.std(xySums, axis=0)\n",
    "np.savetxt(os.path.join(outDirectory, 'run-zhist.csv'), zMeanSums)\n",
    "np.savetxt(os.path.join(outDirectory, 'run-zhistsigmas.csv'), zSumsSigmas)\n",
    "np.savetxt(os.path.join(outDirectory, 'run-xyhist.csv'), xyMeanSums)\n",
    "np.savetxt(os.path.join(outDirectory, 'run-xyhistsigmas.csv'), xySumsSigmas.flatten())"
   ]
  },
  {
   "cell_type": "code",
   "execution_count": 30,
   "metadata": {},
   "outputs": [
    {
     "data": {
      "text/plain": [
       "array([ True,  True,  True, ...,  True,  True,  True])"
      ]
     },
     "execution_count": 30,
     "metadata": {},
     "output_type": "execute_result"
    }
   ],
   "source": []
  },
  {
   "cell_type": "code",
   "execution_count": null,
   "metadata": {},
   "outputs": [],
   "source": []
  }
 ],
 "metadata": {
  "kernelspec": {
   "display_name": "Python 3",
   "language": "python",
   "name": "python3"
  },
  "language_info": {
   "codemirror_mode": {
    "name": "ipython",
    "version": 3
   },
   "file_extension": ".py",
   "mimetype": "text/x-python",
   "name": "python",
   "nbconvert_exporter": "python",
   "pygments_lexer": "ipython3",
   "version": "3.6.6"
  }
 },
 "nbformat": 4,
 "nbformat_minor": 2
}
