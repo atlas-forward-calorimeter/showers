{
 "cells": [
  {
   "cell_type": "code",
   "execution_count": null,
   "metadata": {},
   "outputs": [],
   "source": [
    "import pandas as pd\n",
    "import numpy as np"
   ]
  },
  {
   "cell_type": "code",
   "execution_count": null,
   "metadata": {},
   "outputs": [],
   "source": [
    "paths = (\n",
    "    'data\\\\run1\\\\hits-0.csv',\n",
    "    'data\\\\run1\\\\hits-1.csv',\n",
    "    'data\\\\dir1\\\\run2\\\\hits-2.csv',\n",
    "    'data\\\\dir1\\\\run2\\\\hits-3.csv',\n",
    "    'data\\\\dir1\\\\run3\\\\hits-4.csv',\n",
    "    'data\\\\dir1\\\\run3\\\\hits-5.csv',\n",
    ")\n",
    "\n",
    "dfs = [pd.read_csv(path, skiprows=1) for path in paths]"
   ]
  },
  {
   "cell_type": "code",
   "execution_count": null,
   "metadata": {},
   "outputs": [],
   "source": [
    "for path, df in zip(paths, dfs):\n",
    "    print(path, ':')\n",
    "    print(df.head(), '\\n')"
   ]
  },
  {
   "cell_type": "code",
   "execution_count": null,
   "metadata": {},
   "outputs": [],
   "source": [
    "tubeMiddleZ = 8 / 2"
   ]
  },
  {
   "cell_type": "markdown",
   "metadata": {},
   "source": [
    "## Event Testing"
   ]
  },
  {
   "cell_type": "code",
   "execution_count": null,
   "metadata": {},
   "outputs": [],
   "source": [
    "path = paths[0]\n",
    "df = dfs[0]\n",
    "dfMiddle = df[df.z.abs() < tubeMiddleZ]\n",
    "\n",
    "print(path)\n",
    "print('Total energy deposit:', df.energy_deposit.sum())\n",
    "print('Middle tube energy deposit:', dfMiddle.energy_deposit.sum())"
   ]
  },
  {
   "cell_type": "markdown",
   "metadata": {},
   "source": [
    "## Run Testing"
   ]
  },
  {
   "cell_type": "code",
   "execution_count": null,
   "metadata": {},
   "outputs": [],
   "source": [
    "eDeps, middleEdeps = [], []\n",
    "for path, df in zip(paths[:2], dfs[:2]):\n",
    "    print(path)\n",
    "    dfMiddle = df[df.z.abs() < tubeMiddleZ]\n",
    "    edep = df.energy_deposit.sum()\n",
    "    middleEdep = dfMiddle.energy_deposit.sum()\n",
    "    eDeps.append(edep)\n",
    "    middleEdeps.append(middleEdep)\n",
    "eDeps, middleEdeps = np.array(eDeps), np.array(middleEdeps)\n",
    "meanEdep, meanMiddleEdep = np.mean(eDeps), np.mean(middleEdeps)\n",
    "eDepSigma = np.sqrt(np.mean((eDeps - meanEdep)**2))\n",
    "middleEdepSigma = np.sqrt(np.mean((middleEdeps - meanMiddleEdep)**2))\n",
    "print((eDeps - meanEdep)**2)\n",
    "\n",
    "print('Mean total energy deposit:', meanEdep)\n",
    "print('Total energy deposit standard deviation:', eDepSigma)\n",
    "print('Mean middle tube energy deposit:', meanMiddleEdep)\n",
    "print('Middle tube energy deposit standard deviation:', middleEdepSigma)"
   ]
  },
  {
   "cell_type": "code",
   "execution_count": null,
   "metadata": {},
   "outputs": [],
   "source": []
  }
 ],
 "metadata": {
  "kernelspec": {
   "display_name": "Python 3",
   "language": "python",
   "name": "python3"
  },
  "language_info": {
   "codemirror_mode": {
    "name": "ipython",
    "version": 3
   },
   "file_extension": ".py",
   "mimetype": "text/x-python",
   "name": "python",
   "nbconvert_exporter": "python",
   "pygments_lexer": "ipython3",
   "version": "3.6.6"
  }
 },
 "nbformat": 4,
 "nbformat_minor": 2
}
